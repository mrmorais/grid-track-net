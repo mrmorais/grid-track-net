{
 "cells": [
  {
   "cell_type": "code",
   "execution_count": 28,
   "metadata": {},
   "outputs": [],
   "source": [
    "from tracknet.model import GridTrackNetModel\n",
    "from tracknet.dataset import TrackNet\n",
    "from torchinfo import summary\n",
    "import wandb"
   ]
  },
  {
   "cell_type": "code",
   "execution_count": 4,
   "metadata": {},
   "outputs": [],
   "source": [
    "# wandb.login()"
   ]
  },
  {
   "cell_type": "code",
   "execution_count": 5,
   "metadata": {},
   "outputs": [],
   "source": [
    "# wandb.init(project='GridTrackNet', name='wandb_setup_2')\n",
    "\n",
    "model = GridTrackNetModel()\n",
    "\n",
    "# wandb.watch(model, log_freq=500)"
   ]
  },
  {
   "cell_type": "code",
   "execution_count": 3,
   "metadata": {},
   "outputs": [
    {
     "data": {
      "text/plain": [
       "==========================================================================================\n",
       "Layer (type:depth-idx)                   Output Shape              Param #\n",
       "==========================================================================================\n",
       "GridTrackNetModel                        [10, 15, 27, 48]          --\n",
       "├─ConvBlock: 1-1                         [10, 64, 432, 768]        --\n",
       "│    └─Sequential: 2-1                   [10, 64, 432, 768]        --\n",
       "│    │    └─Conv2d: 3-1                  [10, 64, 432, 768]        8,704\n",
       "│    │    └─ReLU: 3-2                    [10, 64, 432, 768]        --\n",
       "│    │    └─BatchNorm2d: 3-3             [10, 64, 432, 768]        128\n",
       "├─ConvBlock: 1-2                         [10, 64, 432, 768]        --\n",
       "│    └─Sequential: 2-2                   [10, 64, 432, 768]        --\n",
       "│    │    └─Conv2d: 3-4                  [10, 64, 432, 768]        36,928\n",
       "│    │    └─ReLU: 3-5                    [10, 64, 432, 768]        --\n",
       "│    │    └─BatchNorm2d: 3-6             [10, 64, 432, 768]        128\n",
       "├─MaxPool2d: 1-3                         [10, 64, 216, 384]        --\n",
       "├─ConvBlock: 1-4                         [10, 128, 216, 384]       --\n",
       "│    └─Sequential: 2-3                   [10, 128, 216, 384]       --\n",
       "│    │    └─Conv2d: 3-7                  [10, 128, 216, 384]       73,856\n",
       "│    │    └─ReLU: 3-8                    [10, 128, 216, 384]       --\n",
       "│    │    └─BatchNorm2d: 3-9             [10, 128, 216, 384]       256\n",
       "├─ConvBlock: 1-5                         [10, 128, 216, 384]       --\n",
       "│    └─Sequential: 2-4                   [10, 128, 216, 384]       --\n",
       "│    │    └─Conv2d: 3-10                 [10, 128, 216, 384]       147,584\n",
       "│    │    └─ReLU: 3-11                   [10, 128, 216, 384]       --\n",
       "│    │    └─BatchNorm2d: 3-12            [10, 128, 216, 384]       256\n",
       "├─MaxPool2d: 1-6                         [10, 128, 108, 192]       --\n",
       "├─ConvBlock: 1-7                         [10, 256, 108, 192]       --\n",
       "│    └─Sequential: 2-5                   [10, 256, 108, 192]       --\n",
       "│    │    └─Conv2d: 3-13                 [10, 256, 108, 192]       295,168\n",
       "│    │    └─ReLU: 3-14                   [10, 256, 108, 192]       --\n",
       "│    │    └─BatchNorm2d: 3-15            [10, 256, 108, 192]       512\n",
       "├─ConvBlock: 1-8                         [10, 256, 108, 192]       --\n",
       "│    └─Sequential: 2-6                   [10, 256, 108, 192]       --\n",
       "│    │    └─Conv2d: 3-16                 [10, 256, 108, 192]       590,080\n",
       "│    │    └─ReLU: 3-17                   [10, 256, 108, 192]       --\n",
       "│    │    └─BatchNorm2d: 3-18            [10, 256, 108, 192]       512\n",
       "├─MaxPool2d: 1-9                         [10, 256, 54, 96]         --\n",
       "├─ConvBlock: 1-10                        [10, 256, 54, 96]         --\n",
       "│    └─Sequential: 2-7                   [10, 256, 54, 96]         --\n",
       "│    │    └─Conv2d: 3-19                 [10, 256, 54, 96]         590,080\n",
       "│    │    └─ReLU: 3-20                   [10, 256, 54, 96]         --\n",
       "│    │    └─BatchNorm2d: 3-21            [10, 256, 54, 96]         512\n",
       "├─ConvBlock: 1-11                        [10, 256, 54, 96]         --\n",
       "│    └─Sequential: 2-8                   [10, 256, 54, 96]         --\n",
       "│    │    └─Conv2d: 3-22                 [10, 256, 54, 96]         590,080\n",
       "│    │    └─ReLU: 3-23                   [10, 256, 54, 96]         --\n",
       "│    │    └─BatchNorm2d: 3-24            [10, 256, 54, 96]         512\n",
       "├─ConvBlock: 1-12                        [10, 256, 54, 96]         --\n",
       "│    └─Sequential: 2-9                   [10, 256, 54, 96]         --\n",
       "│    │    └─Conv2d: 3-25                 [10, 256, 54, 96]         590,080\n",
       "│    │    └─ReLU: 3-26                   [10, 256, 54, 96]         --\n",
       "│    │    └─BatchNorm2d: 3-27            [10, 256, 54, 96]         512\n",
       "├─MaxPool2d: 1-13                        [10, 256, 27, 48]         --\n",
       "├─ConvBlock: 1-14                        [10, 512, 27, 48]         --\n",
       "│    └─Sequential: 2-10                  [10, 512, 27, 48]         --\n",
       "│    │    └─Conv2d: 3-28                 [10, 512, 27, 48]         1,180,160\n",
       "│    │    └─ReLU: 3-29                   [10, 512, 27, 48]         --\n",
       "│    │    └─BatchNorm2d: 3-30            [10, 512, 27, 48]         1,024\n",
       "├─ConvBlock: 1-15                        [10, 512, 27, 48]         --\n",
       "│    └─Sequential: 2-11                  [10, 512, 27, 48]         --\n",
       "│    │    └─Conv2d: 3-31                 [10, 512, 27, 48]         2,359,808\n",
       "│    │    └─ReLU: 3-32                   [10, 512, 27, 48]         --\n",
       "│    │    └─BatchNorm2d: 3-33            [10, 512, 27, 48]         1,024\n",
       "├─ConvBlock: 1-16                        [10, 512, 27, 48]         --\n",
       "│    └─Sequential: 2-12                  [10, 512, 27, 48]         --\n",
       "│    │    └─Conv2d: 3-34                 [10, 512, 27, 48]         2,359,808\n",
       "│    │    └─ReLU: 3-35                   [10, 512, 27, 48]         --\n",
       "│    │    └─BatchNorm2d: 3-36            [10, 512, 27, 48]         1,024\n",
       "├─Conv2d: 1-17                           [10, 15, 27, 48]          69,135\n",
       "├─Sigmoid: 1-18                          [10, 15, 27, 48]          --\n",
       "==========================================================================================\n",
       "Total params: 8,897,871\n",
       "Trainable params: 8,897,871\n",
       "Non-trainable params: 0\n",
       "Total mult-adds (Units.GIGABYTES): 687.76\n",
       "==========================================================================================\n",
       "Input size (MB): 199.07\n",
       "Forward/backward pass size (MB): 12847.92\n",
       "Params size (MB): 35.59\n",
       "Estimated Total Size (MB): 13082.58\n",
       "=========================================================================================="
      ]
     },
     "execution_count": 3,
     "metadata": {},
     "output_type": "execute_result"
    }
   ],
   "source": [
    "summary(model, input_size=(10, 15, 432, 768))"
   ]
  },
  {
   "cell_type": "code",
   "execution_count": 6,
   "metadata": {},
   "outputs": [],
   "source": [
    "import torch\n",
    "import torch.nn as nn\n",
    "from torch.optim import Adadelta\n",
    "import numpy as np\n",
    "from torch import cuda\n",
    "from tqdm import tqdm"
   ]
  },
  {
   "cell_type": "code",
   "execution_count": null,
   "metadata": {},
   "outputs": [],
   "source": [
    "def validate(model, criterion, val_loader):\n",
    "    device = \"cuda\" if cuda.is_available() else \"cpu\"\n",
    "    model.to(device)\n",
    "    model.eval()\n",
    "\n",
    "    corrects = []\n",
    "    losses = []\n",
    "\n",
    "    for _, (instances, label) in enumerate(val_loader):\n",
    "        with torch.no_grad():\n",
    "            label = label.permute(0, 1, 4, 2, 3).reshape(val_loader.batch_size, 3 * 5, 27, 48)\n",
    "\n",
    "            instances = instances.to(device, dtype=torch.float32)\n",
    "            outputs = model(instances)\n",
    "\n",
    "            loss = criterion(outputs, label)\n",
    "            losses.append(loss)\n",
    "\n",
    "            for i in range(val_loader.batch_size):\n",
    "                # Each 3 items is a grid confidence for 1 of 5 frames\n",
    "                for j in range(0, 15, 3):\n",
    "                    gt = np.argmax(label[i][j].flatten())\n",
    "                    gt_x, gt_y = np.unravel_index(gt, (27, 48))\n",
    "\n",
    "                    out = np.argmax(outputs[i][j].flatten())\n",
    "                    out_x, out_y = np.unravel_index(out, (27, 48))\n",
    "\n",
    "                    corrects.append(gt_x == out_x and gt_y == out_y)\n",
    "\n",
    "    acc = sum(corrects) / len(corrects)\n",
    "    avg_loss = np.average(losses)\n",
    "\n",
    "    return acc, avg_loss"
   ]
  },
  {
   "cell_type": "code",
   "execution_count": 31,
   "metadata": {},
   "outputs": [
    {
     "ename": "TypeError",
     "evalue": "TrackNet.__init__() missing 1 required positional argument: 'files'",
     "output_type": "error",
     "traceback": [
      "\u001b[31m---------------------------------------------------------------------------\u001b[39m",
      "\u001b[31mTypeError\u001b[39m                                 Traceback (most recent call last)",
      "\u001b[36mCell\u001b[39m\u001b[36m \u001b[39m\u001b[32mIn[31]\u001b[39m\u001b[32m, line 3\u001b[39m\n\u001b[32m      1\u001b[39m \u001b[38;5;28;01mfrom\u001b[39;00m\u001b[38;5;250m \u001b[39m\u001b[34;01mtorch\u001b[39;00m\u001b[34;01m.\u001b[39;00m\u001b[34;01mutils\u001b[39;00m\u001b[34;01m.\u001b[39;00m\u001b[34;01mdata\u001b[39;00m\u001b[38;5;250m \u001b[39m\u001b[38;5;28;01mimport\u001b[39;00m DataLoader\n\u001b[32m----> \u001b[39m\u001b[32m3\u001b[39m val_dataset = \u001b[43mTrackNet\u001b[49m\u001b[43m(\u001b[49m\u001b[33;43m'\u001b[39;49m\u001b[33;43mcompiled_dataset\u001b[39;49m\u001b[33;43m'\u001b[39;49m\u001b[43m)\u001b[49m\n\u001b[32m      4\u001b[39m val_loader = DataLoader(val_dataset, batch_size=\u001b[32m10\u001b[39m)\n\u001b[32m      5\u001b[39m validate(model, val_loader)\n",
      "\u001b[31mTypeError\u001b[39m: TrackNet.__init__() missing 1 required positional argument: 'files'"
     ]
    }
   ],
   "source": [
    "from torch.utils.data import DataLoader\n",
    "\n",
    "val_dataset = TrackNet('compiled_dataset')\n",
    "val_loader = DataLoader(val_dataset, batch_size=10)\n",
    "validate(model, val_loader)"
   ]
  },
  {
   "cell_type": "code",
   "execution_count": null,
   "metadata": {},
   "outputs": [],
   "source": [
    "\n",
    "def train(model, train_loader, epochs = 10):\n",
    "    device = \"cuda\" if cuda.is_available() else \"cpu\"\n",
    "    model.to(device)\n",
    "    model.train()\n",
    "\n",
    "    criterion = nn.CrossEntropyLoss()\n",
    "    optimizer = Adadelta(lr=1.0, params=model.parameters(), weight_decay=0.01)\n",
    "\n",
    "    for epoch in range(epochs):\n",
    "        losses = []\n",
    "\n",
    "        for instances, label in tqdm(train_loader):\n",
    "            optimizer.zero_grad()\n",
    "\n",
    "            label = label.permute(0, 1, 4, 2, 3).reshape(train_loader.batch_size, 3 * 5, 27, 48)\n",
    "\n",
    "            instances = instances.to(device, dtype=torch.float32)\n",
    "            outputs = model(instances)\n",
    "\n",
    "            print(outputs.shape, label.shape)\n",
    "            \n",
    "            loss = criterion(outputs, label)\n",
    "            losses.append(loss)\n",
    "\n",
    "            wandb.log({ 'train_loss': loss })\n",
    "\n",
    "            loss.backward()\n",
    "            optimizer.step()\n",
    "        \n",
    "        avg_loss = np.mean(losses)\n",
    "\n",
    "        wandb.log({\n",
    "            'epoch': epoch,\n",
    "            'epoch_loss': avg_loss\n",
    "        })\n"
   ]
  },
  {
   "cell_type": "code",
   "execution_count": null,
   "metadata": {},
   "outputs": [],
   "source": [
    "wandb.finish()"
   ]
  },
  {
   "cell_type": "code",
   "execution_count": 26,
   "metadata": {},
   "outputs": [
    {
     "data": {
      "text/plain": [
       "(['015.hdf5', '035.hdf5', '041.hdf5', '038.hdf5', '046.hdf5', '008.hdf5'],\n",
       " ['036.hdf5',\n",
       "  '016.hdf5',\n",
       "  '051.hdf5',\n",
       "  '034.hdf5',\n",
       "  '030.hdf5',\n",
       "  '054.hdf5',\n",
       "  '009.hdf5',\n",
       "  '003.hdf5',\n",
       "  '047.hdf5',\n",
       "  '010.hdf5',\n",
       "  '001.hdf5',\n",
       "  '048.hdf5',\n",
       "  '022.hdf5',\n",
       "  '005.hdf5',\n",
       "  '027.hdf5',\n",
       "  '060.hdf5',\n",
       "  '025.hdf5',\n",
       "  '044.hdf5',\n",
       "  '032.hdf5',\n",
       "  '040.hdf5',\n",
       "  '006.hdf5',\n",
       "  '011.hdf5',\n",
       "  '055.hdf5',\n",
       "  '002.hdf5',\n",
       "  '021.hdf5',\n",
       "  '043.hdf5',\n",
       "  '056.hdf5',\n",
       "  '037.hdf5',\n",
       "  '004.hdf5',\n",
       "  '000.hdf5',\n",
       "  '053.hdf5',\n",
       "  '045.hdf5',\n",
       "  '028.hdf5',\n",
       "  '023.hdf5',\n",
       "  '007.hdf5',\n",
       "  '042.hdf5',\n",
       "  '057.hdf5',\n",
       "  '033.hdf5',\n",
       "  '059.hdf5',\n",
       "  '020.hdf5',\n",
       "  '018.hdf5',\n",
       "  '052.hdf5',\n",
       "  '017.hdf5',\n",
       "  '049.hdf5',\n",
       "  '039.hdf5',\n",
       "  '012.hdf5',\n",
       "  '061.hdf5',\n",
       "  '031.hdf5',\n",
       "  '058.hdf5',\n",
       "  '050.hdf5',\n",
       "  '024.hdf5',\n",
       "  '019.hdf5',\n",
       "  '029.hdf5',\n",
       "  '026.hdf5',\n",
       "  '014.hdf5',\n",
       "  '013.hdf5'])"
      ]
     },
     "execution_count": 26,
     "metadata": {},
     "output_type": "execute_result"
    }
   ],
   "source": [
    "import os\n",
    "import random\n",
    "\n",
    "files = os.listdir('compiled_dataset')\n",
    "files = list(filter(lambda x: x.endswith('.hdf5'), files))\n",
    "random.shuffle(files)\n",
    "\n",
    "val_files = files[:6]\n",
    "train_files = files[6:]\n",
    "\n",
    "val_files, train_files\n"
   ]
  },
  {
   "cell_type": "code",
   "execution_count": null,
   "metadata": {},
   "outputs": [],
   "source": [
    "from torch.utils.data import DataLoader\n",
    "\n",
    "val_dataset = TrackNet('compiled_dataset', val_files, debug=True)\n",
    "val_loader = DataLoader(val_dataset, batch_size=10)\n",
    "\n",
    "train_dataset = TrackNet('compiled_dataset', train_files, debug=True)\n",
    "train_loader = DataLoader(train_dataset, batch_size=10, pin_memory=True, num_workers=8)\n",
    "\n",
    "train(model, train_loader)"
   ]
  }
 ],
 "metadata": {
  "kernelspec": {
   "display_name": ".venv",
   "language": "python",
   "name": "python3"
  },
  "language_info": {
   "codemirror_mode": {
    "name": "ipython",
    "version": 3
   },
   "file_extension": ".py",
   "mimetype": "text/x-python",
   "name": "python",
   "nbconvert_exporter": "python",
   "pygments_lexer": "ipython3",
   "version": "3.13.1"
  }
 },
 "nbformat": 4,
 "nbformat_minor": 2
}
