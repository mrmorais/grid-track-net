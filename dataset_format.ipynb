{
 "cells": [
  {
   "cell_type": "code",
   "execution_count": 8,
   "metadata": {},
   "outputs": [],
   "source": [
    "import pandas as pd\n",
    "import numpy as np"
   ]
  },
  {
   "cell_type": "markdown",
   "metadata": {},
   "source": [
    "The labels are parsed to grid style"
   ]
  },
  {
   "cell_type": "code",
   "execution_count": 21,
   "metadata": {},
   "outputs": [],
   "source": [
    "import os\n",
    "\n",
    "def coordinates_to_grid(coordinates: pd.DataFrame, i_dim=(1280, 720), o_dim=(768, 432), grid=(48, 27)):\n",
    "    grid_size = (o_dim[0] / grid[0], o_dim[1] / grid[1])\n",
    "\n",
    "    # Convert dimensions\n",
    "    coordinates.loc[:, 'x-coordinate'] = coordinates['x-coordinate'].div(i_dim[0]).mul(o_dim[0]).round(0)\n",
    "    coordinates.loc[:, 'y-coordinate'] = coordinates['y-coordinate'].div(i_dim[1]).mul(o_dim[1]).round(0)\n",
    "\n",
    "    # Find grids\n",
    "    coordinates['x-grid'] = (coordinates['x-coordinate'].div(grid_size[0]))\n",
    "    coordinates['y-grid'] = (coordinates['y-coordinate'].div(grid_size[1]))\n",
    "\n",
    "    # Find grid offsets (the x, y coordinates within the grid)\n",
    "    coordinates['x-grid-offset'] = coordinates['x-grid'].mod(1)\n",
    "    coordinates['y-grid-offset'] = coordinates['y-grid'].mod(1)\n",
    "\n",
    "    # Round the grid coordinates\n",
    "    coordinates['x-grid'] = coordinates['x-grid'].floordiv(1).astype(int)\n",
    "    coordinates['y-grid'] = coordinates['y-grid'].floordiv(1).astype(int)\n",
    "\n",
    "    return coordinates\n",
    "\n",
    "def get_clips_dirs():\n",
    "    dirs = []\n",
    "\n",
    "    for dir in os.walk('dataset'):\n",
    "        if (not 'Clip' in dir[0]): continue\n",
    "        dirs.append(dir[0])\n",
    "\n",
    "    return dirs\n",
    "\n",
    "def load_and_transform_clip_labels(clip_dir):\n",
    "    labels = pd.read_csv(os.path.join(clip_dir, 'Label.csv'))\n",
    "    grids = coordinates_to_grid(labels.loc[:, ['x-coordinate', 'y-coordinate']])\n",
    "    grids = grids.merge(labels[['status', 'file name', 'visibility']], left_index=True, right_index=True, how='left')\n",
    "    return grids"
   ]
  },
  {
   "cell_type": "code",
   "execution_count": 22,
   "metadata": {},
   "outputs": [],
   "source": [
    "import PIL.Image\n",
    "\n",
    "def create_instances(clip_dir, files):\n",
    "    instances = []\n",
    "\n",
    "    # 2 frames overlap (i.e. step = 3)\n",
    "    for i in range(0, len(files), 3):\n",
    "        if (len(files) - i) < 5: break\n",
    "        frames = []\n",
    "\n",
    "        for j in range(5):\n",
    "            if (i + j) >= len(files): break\n",
    "            path = os.path.join(clip_dir, files[i + j])\n",
    "\n",
    "            image = PIL.Image.open(path).convert('RGB').resize((768, 432))\n",
    "            image = np.array(image).transpose((2, 0, 1))  # Convert to (3, 432, 768)\n",
    "            image = image / 255.0 # Normalize to [0, 1]\n",
    "            frames.append(image)\n",
    "\n",
    "        instances.append(np.array(frames).reshape(5 * 3, 432, 768)) # Shape: (15, 432, 768)\n",
    "    return np.array(instances)"
   ]
  },
  {
   "cell_type": "code",
   "execution_count": 23,
   "metadata": {},
   "outputs": [],
   "source": [
    "def create_labels(labels):\n",
    "    instances = []\n",
    "\n",
    "    for i in range(0, len(labels), 3):\n",
    "        if (len(labels) - i) < 5: break\n",
    "        frames = []\n",
    "\n",
    "        for j in range(5):\n",
    "            if (i + j) >= len(labels): break\n",
    "            grid_confidence = np.zeros((27, 48))\n",
    "            grid_confidence[labels['y-grid'][i + j], labels['x-grid'][i + j]] = 1.0\n",
    "            \n",
    "            grid_x_offset = np.zeros((27, 48))\n",
    "            grid_x_offset[labels['y-grid'][i + j], labels['x-grid'][i + j]] = labels['x-grid-offset'][i + j]\n",
    "\n",
    "            grid_y_offset = np.zeros((27, 48))\n",
    "            grid_y_offset[labels['y-grid'][i + j], labels['x-grid'][i + j]] = labels['y-grid-offset'][i + j]\n",
    "\n",
    "            frames.append(np.concatenate((grid_confidence.reshape(1, 27, 48), grid_x_offset.reshape(1, 27, 48), grid_y_offset.reshape(1, 27, 48)), axis=0).transpose(1, 2, 0))\n",
    "\n",
    "        instances.append(np.array(frames))\n",
    "    return np.array(instances)"
   ]
  },
  {
   "cell_type": "code",
   "execution_count": 30,
   "metadata": {},
   "outputs": [
    {
     "name": "stderr",
     "output_type": "stream",
     "text": [
      "  4%|▍         | 4/95 [00:23<08:28,  5.59s/it]"
     ]
    },
    {
     "name": "stdout",
     "output_type": "stream",
     "text": [
      "Failed to process dataset/game5/Clip7 (dataset_game5_Clip7)\n",
      "Failed to process dataset/game5/Clip15 (dataset_game5_Clip15)\n",
      "Failed to process dataset/game5/Clip12 (dataset_game5_Clip12)\n"
     ]
    },
    {
     "name": "stderr",
     "output_type": "stream",
     "text": [
      " 13%|█▎        | 12/95 [00:39<05:23,  3.89s/it]"
     ]
    },
    {
     "name": "stdout",
     "output_type": "stream",
     "text": [
      "Failed to process dataset/game5/Clip3 (dataset_game5_Clip3)\n"
     ]
    },
    {
     "name": "stderr",
     "output_type": "stream",
     "text": [
      " 16%|█▌        | 15/95 [00:43<03:24,  2.56s/it]"
     ]
    },
    {
     "name": "stdout",
     "output_type": "stream",
     "text": [
      "Failed to process dataset/game2/Clip6 (dataset_game2_Clip6)\n"
     ]
    },
    {
     "name": "stderr",
     "output_type": "stream",
     "text": [
      " 24%|██▍       | 23/95 [04:04<13:16, 11.07s/it]"
     ]
    },
    {
     "name": "stdout",
     "output_type": "stream",
     "text": [
      "Failed to process dataset/game3/Clip6 (dataset_game3_Clip6)\n"
     ]
    },
    {
     "name": "stderr",
     "output_type": "stream",
     "text": [
      " 28%|██▊       | 27/95 [04:15<06:07,  5.40s/it]"
     ]
    },
    {
     "name": "stdout",
     "output_type": "stream",
     "text": [
      "Failed to process dataset/game3/Clip7 (dataset_game3_Clip7)\n"
     ]
    },
    {
     "name": "stderr",
     "output_type": "stream",
     "text": [
      " 32%|███▏      | 30/95 [04:19<03:35,  3.31s/it]"
     ]
    },
    {
     "name": "stdout",
     "output_type": "stream",
     "text": [
      "Failed to process dataset/game3/Clip4 (dataset_game3_Clip4)\n",
      "Failed to process dataset/game3/Clip3 (dataset_game3_Clip3)\n"
     ]
    },
    {
     "name": "stderr",
     "output_type": "stream",
     "text": [
      " 35%|███▍      | 33/95 [04:25<02:45,  2.68s/it]"
     ]
    },
    {
     "name": "stdout",
     "output_type": "stream",
     "text": [
      "Failed to process dataset/game4/Clip1 (dataset_game4_Clip1)\n",
      "Failed to process dataset/game4/Clip7 (dataset_game4_Clip7)\n"
     ]
    },
    {
     "name": "stderr",
     "output_type": "stream",
     "text": [
      " 38%|███▊      | 36/95 [05:43<12:06, 12.31s/it]"
     ]
    },
    {
     "name": "stdout",
     "output_type": "stream",
     "text": [
      "Failed to process dataset/game4/Clip5 (dataset_game4_Clip5)\n"
     ]
    },
    {
     "name": "stderr",
     "output_type": "stream",
     "text": [
      " 43%|████▎     | 41/95 [06:15<08:50,  9.83s/it]"
     ]
    },
    {
     "name": "stdout",
     "output_type": "stream",
     "text": [
      "Failed to process dataset/game10/Clip8 (dataset_game10_Clip8)\n"
     ]
    },
    {
     "name": "stderr",
     "output_type": "stream",
     "text": [
      " 46%|████▋     | 44/95 [06:21<04:59,  5.87s/it]"
     ]
    },
    {
     "name": "stdout",
     "output_type": "stream",
     "text": [
      "Failed to process dataset/game10/Clip12 (dataset_game10_Clip12)\n"
     ]
    },
    {
     "name": "stderr",
     "output_type": "stream",
     "text": [
      " 52%|█████▏    | 49/95 [06:33<02:54,  3.80s/it]"
     ]
    },
    {
     "name": "stdout",
     "output_type": "stream",
     "text": [
      "Failed to process dataset/game10/Clip11 (dataset_game10_Clip11)\n"
     ]
    },
    {
     "name": "stderr",
     "output_type": "stream",
     "text": [
      " 55%|█████▍    | 52/95 [06:40<02:00,  2.81s/it]"
     ]
    },
    {
     "name": "stdout",
     "output_type": "stream",
     "text": [
      "Failed to process dataset/game1/Clip1 (dataset_game1_Clip1)\n",
      "Failed to process dataset/game1/Clip8 (dataset_game1_Clip8)\n"
     ]
    },
    {
     "name": "stderr",
     "output_type": "stream",
     "text": [
      " 58%|█████▊    | 55/95 [06:43<01:18,  1.97s/it]"
     ]
    },
    {
     "name": "stdout",
     "output_type": "stream",
     "text": [
      "Failed to process dataset/game1/Clip7 (dataset_game1_Clip7)\n"
     ]
    },
    {
     "name": "stderr",
     "output_type": "stream",
     "text": [
      " 62%|██████▏   | 59/95 [07:00<02:01,  3.38s/it]"
     ]
    },
    {
     "name": "stdout",
     "output_type": "stream",
     "text": [
      "Failed to process dataset/game1/Clip5 (dataset_game1_Clip5)\n"
     ]
    },
    {
     "name": "stderr",
     "output_type": "stream",
     "text": [
      " 66%|██████▋   | 63/95 [07:08<01:24,  2.65s/it]"
     ]
    },
    {
     "name": "stdout",
     "output_type": "stream",
     "text": [
      "Failed to process dataset/game1/Clip10 (dataset_game1_Clip10)\n",
      "Failed to process dataset/game6/Clip1 (dataset_game6_Clip1)\n",
      "Failed to process dataset/game6/Clip2 (dataset_game6_Clip2)\n",
      "Failed to process dataset/game6/Clip4 (dataset_game6_Clip4)\n",
      "Failed to process dataset/game6/Clip3 (dataset_game6_Clip3)\n",
      "Failed to process dataset/game8/Clip6 (dataset_game8_Clip6)\n"
     ]
    },
    {
     "name": "stderr",
     "output_type": "stream",
     "text": [
      " 78%|███████▊  | 74/95 [08:51<04:14, 12.11s/it]"
     ]
    },
    {
     "name": "stdout",
     "output_type": "stream",
     "text": [
      "Failed to process dataset/game8/Clip2 (dataset_game8_Clip2)\n",
      "Failed to process dataset/game8/Clip5 (dataset_game8_Clip5)\n"
     ]
    },
    {
     "name": "stderr",
     "output_type": "stream",
     "text": [
      " 80%|████████  | 76/95 [08:54<02:38,  8.34s/it]"
     ]
    },
    {
     "name": "stdout",
     "output_type": "stream",
     "text": [
      "Failed to process dataset/game8/Clip3 (dataset_game8_Clip3)\n"
     ]
    },
    {
     "name": "stderr",
     "output_type": "stream",
     "text": [
      " 87%|████████▋ | 83/95 [09:28<01:16,  6.36s/it]"
     ]
    },
    {
     "name": "stdout",
     "output_type": "stream",
     "text": [
      "Failed to process dataset/game9/Clip5 (dataset_game9_Clip5)\n"
     ]
    },
    {
     "name": "stderr",
     "output_type": "stream",
     "text": [
      " 91%|█████████ | 86/95 [09:57<01:22,  9.21s/it]"
     ]
    },
    {
     "name": "stdout",
     "output_type": "stream",
     "text": [
      "Failed to process dataset/game7/Clip6 (dataset_game7_Clip6)\n",
      "Failed to process dataset/game7/Clip1 (dataset_game7_Clip1)\n",
      "Failed to process dataset/game7/Clip8 (dataset_game7_Clip8)\n",
      "Failed to process dataset/game7/Clip9 (dataset_game7_Clip9)\n",
      "Failed to process dataset/game7/Clip7 (dataset_game7_Clip7)\n"
     ]
    },
    {
     "name": "stderr",
     "output_type": "stream",
     "text": [
      "100%|██████████| 95/95 [10:09<00:00,  6.41s/it]"
     ]
    },
    {
     "name": "stdout",
     "output_type": "stream",
     "text": [
      "Failed to process dataset/game7/Clip5 (dataset_game7_Clip5)\n",
      "Failed to process dataset/game7/Clip4 (dataset_game7_Clip4)\n",
      "Failed to process dataset/game7/Clip3 (dataset_game7_Clip3)\n"
     ]
    },
    {
     "name": "stderr",
     "output_type": "stream",
     "text": [
      "\n"
     ]
    }
   ],
   "source": [
    "import h5py\n",
    "import tqdm\n",
    "\n",
    "clip_dirs = get_clips_dirs()\n",
    "batch_size = 50\n",
    "file_counter = 0\n",
    "rest_labels = None\n",
    "rest_instances = None\n",
    "\n",
    "for clip_dir in tqdm.tqdm(clip_dirs):\n",
    "    name = clip_dir.replace('/', '_')\n",
    "\n",
    "    try:\n",
    "        loaded_labels = load_and_transform_clip_labels(clip_dir)\n",
    "        clip_instances = create_instances(clip_dir, loaded_labels['file name'].values)\n",
    "        clip_labels = create_labels(loaded_labels)\n",
    "\n",
    "        if (rest_labels is not None):\n",
    "            clip_labels = np.concatenate((rest_labels, clip_labels), axis=0)\n",
    "            clip_instances = np.concatenate((rest_instances, clip_instances), axis=0)\n",
    "        \n",
    "        total_instances = len(clip_instances)\n",
    "\n",
    "        for start_idx in range(0, total_instances, batch_size):\n",
    "            end_idx = min(start_idx + batch_size, total_instances)\n",
    "\n",
    "            if (end_idx - start_idx) < batch_size:\n",
    "                rest_instances = clip_instances[start_idx:end_idx]\n",
    "                rest_labels = clip_labels[start_idx:end_idx]\n",
    "                break\n",
    "            \n",
    "            # Create a new file for each batch\n",
    "            batch_filename = f'compiled_dataset/{file_counter:03d}.hdf5'\n",
    "            file_counter += 1\n",
    "            \n",
    "            with h5py.File(batch_filename, \"w\") as file:\n",
    "                file.create_dataset('instances', data=clip_instances[start_idx:end_idx])\n",
    "                file.create_dataset('labels', data=clip_labels[start_idx:end_idx])\n",
    "\n",
    "    except:\n",
    "        print(f'Failed to process {clip_dir} ({name})')\n",
    "        continue"
   ]
  },
  {
   "cell_type": "code",
   "execution_count": null,
   "metadata": {},
   "outputs": [],
   "source": []
  }
 ],
 "metadata": {
  "kernelspec": {
   "display_name": ".venv",
   "language": "python",
   "name": "python3"
  },
  "language_info": {
   "codemirror_mode": {
    "name": "ipython",
    "version": 3
   },
   "file_extension": ".py",
   "mimetype": "text/x-python",
   "name": "python",
   "nbconvert_exporter": "python",
   "pygments_lexer": "ipython3",
   "version": "3.13.1"
  }
 },
 "nbformat": 4,
 "nbformat_minor": 2
}
